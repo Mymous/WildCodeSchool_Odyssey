{
 "cells": [
  {
   "cell_type": "markdown",
   "metadata": {},
   "source": [
    "# Created a pseudo-code algorithm\n",
    "\n",
    "1. Pseudo code an algorithm that will count the maximum number of candies you can buy, depending on the money you have and the price of the candy.\n",
    "\n",
    "2.  For starters, you should calculate the real money which represents the amount of cash you have available, and the real price which represents the unit price of the candy.\n",
    "\n",
    "3. The expected result is an integer representing the maximum number of candies, or the largest number of candies that money allows you to buy!\n",
    "\n",
    "4. For example, if your money is equal to 12.47 and the price is equal to 1.14, the expected result will be 10 (because you can't buy 10.938596491 candies!).\n",
    "\n",
    "5. Use a loop to calculate this result. You're not allowed to use a rounding method.\n",
    "\n",
    "6. Write the pseudo code in a Gist and share the bond.\n",
    "\n",
    "**Validation criteria**\n",
    "\n",
    "• The pseudo code verifies that your money and the price are always higher than 0.\n",
    "\n",
    "• A loop is used to calculate the result.\n",
    "\n",
    "• The number of candies returned is always an integer (no possibility of a decimal)."
   ]
  },
  {
   "cell_type": "markdown",
   "metadata": {},
   "source": [
    "# PSEUDO-CODE"
   ]
  },
  {
   "cell_type": "code",
   "execution_count": null,
   "metadata": {},
   "outputs": [],
   "source": [
    "#define a function named BuyMaxCandies (no arguments, we will ask the users once the function is running)\n",
    "def BuyMaxCandies():\n",
    "\n",
    "#Ask the users for their current pocket money and the price per candy in a given store\n",
    "print(\"...So, you wanna buy some magic? How much cash do you have with you? \")\n",
    "pocket_money = input()\n",
    "\n",
    "print(\"I see...And the price per candy is...? \")\n",
    "candyprice = input()\n",
    "\n",
    "#Before moving to the next step, we would make sure the user actually introduced a valid number\n",
    "#, either float or int (although it's always returned as a string)\n",
    "def AreValuesNumbers(pocket_money, candyprice):\n",
    "    if float(pocket_money) does not give us a ValueError:\n",
    "        pass\n",
    "    elif float(pocket_money) gives us a ValueError:\n",
    "        print(\"Yo. Don't mess with me. No time to lose. This is a serious matter. We need the candies! Give me NUMBERS!! \")\n",
    "        print(\"How much cash do we have? \")\n",
    "        pocket_money = input()\n",
    "        \n",
    "    if float(candyprice) does not give us a ValueError:\n",
    "        pass\n",
    "    elif float(pocket_money) gives us a ValueError:\n",
    "        print(\"Alright now... and the price per candy is...? \")\n",
    "        candyprice = input()\n",
    "\n",
    "#We would call the function and repeat until the user gives us valid values     \n",
    "AreValuesNumbers(pocket_money, candyprice)\n",
    "\n",
    "#Now we count how many candies will we be able to buy, starting at 0\n",
    "candies = 0\n",
    "\n",
    "#While we have enough money, we buy candies.\n",
    "while pocket_money >= candyprice:\n",
    "    candies += 1\n",
    "\n",
    "#we finally return the number of candies bought    \n",
    "print(\"You could currently buy \" + str(candies) + \" candies\")\n"
   ]
  },
  {
   "cell_type": "markdown",
   "metadata": {},
   "source": [
    "# REAL CODE"
   ]
  },
  {
   "cell_type": "code",
   "execution_count": 52,
   "metadata": {},
   "outputs": [],
   "source": [
    "#define a function named BuyMaxCandies (no arguments, we will ask the users once the function is running)\n",
    "# Ask the users for their current pocket money and the price per candy in a given store\n",
    "# Before moving to the next step, we would make sure the user actually introduced a valid number\n",
    "\n",
    "def BuyMaxCandies():\n",
    "    print(\"...So, you wanna buy some magic? How much cash do you have with you? \")\n",
    "    pocket_money = input()\n",
    "\n",
    "    while type(pocket_money) == str:\n",
    "        try:\n",
    "            pocket_money = float(pocket_money)\n",
    "            break\n",
    "        except ValueError:\n",
    "            print(\"Don't mess with me. No time to lose. This is a serious matter. We need the candies! Give me NUMBERS!!\")\n",
    "            print(\"How much cash do we have? \")\n",
    "            pocket_money = input()\n",
    "\n",
    "    print(\"I see...And the price per candy is...? \")\n",
    "    candyprice = input()\n",
    "\n",
    "    while type(candyprice) == str:\n",
    "        try:\n",
    "            candyprice = float(candyprice)\n",
    "            break\n",
    "        except ValueError:\n",
    "            print(\"I ain't got time for you telling me weird stuff. I asked for the price per candy. Give me a NUMBER! \")\n",
    "            candyprice = input()\n",
    "\n",
    "#Now we count how many candies will we be able to buy, starting at 0\n",
    "    candies = 0\n",
    "\n",
    "#While we have enough money, we buy candies.\n",
    "    while pocket_money >= candyprice:\n",
    "        candies += 1\n",
    "        pocket_money -= candyprice\n",
    "\n",
    "\n",
    "#we finally return the number of candies bought    \n",
    "    print(\"You could currently buy \" + str(candies) + ' \"candies\"... Have fun.')\n",
    "    print(\"You have \" + str(pocket_money) + \"$ in your pocket!\")"
   ]
  },
  {
   "cell_type": "code",
   "execution_count": 54,
   "metadata": {},
   "outputs": [
    {
     "name": "stdout",
     "output_type": "stream",
     "text": [
      "...So, you wanna buy some magic? How much cash do you have with you? \n",
      "10\n",
      "I see...And the price per candy is...? \n",
      "0.40\n",
      "You could currently buy 24 \"candies\"... Have fun.\n",
      "You have 0.3999999999999957$ in your pocket!\n"
     ]
    }
   ],
   "source": [
    "BuyMaxCandies()"
   ]
  },
  {
   "cell_type": "markdown",
   "metadata": {},
   "source": [
    "# BUG(?)"
   ]
  },
  {
   "cell_type": "markdown",
   "metadata": {},
   "source": [
    "WEIRD! For some reason there is a bug when calculating some numbers. Any idea why this is happening?"
   ]
  }
 ],
 "metadata": {
  "kernelspec": {
   "display_name": "Python 3",
   "language": "python",
   "name": "python3"
  },
  "language_info": {
   "codemirror_mode": {
    "name": "ipython",
    "version": 3
   },
   "file_extension": ".py",
   "mimetype": "text/x-python",
   "name": "python",
   "nbconvert_exporter": "python",
   "pygments_lexer": "ipython3",
   "version": "3.7.4"
  }
 },
 "nbformat": 4,
 "nbformat_minor": 2
}
